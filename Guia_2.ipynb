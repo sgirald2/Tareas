{
  "cells": [
    {
      "cell_type": "markdown",
      "metadata": {
        "id": "view-in-github",
        "colab_type": "text"
      },
      "source": [
        "<a href=\"https://colab.research.google.com/github/sgirald2/Tareas/blob/main/Guia_2.ipynb\" target=\"_parent\"><img src=\"https://colab.research.google.com/assets/colab-badge.svg\" alt=\"Open In Colab\"/></a>"
      ]
    },
    {
      "cell_type": "markdown",
      "metadata": {
        "id": "sVxeQki8vRXz"
      },
      "source": [
        "# **Guía 2**\n",
        "\n",
        "Objetivo: aplicar los conceptos de Pandas en la manipulación y análisis de datos estructurados. Se trabajará con Series y DataFrames, aplicando técnicas de acceso, selección, filtrado y agregación de datos.\n",
        "\n",
        "### **Caso de Negocio: Análisis de Deserción de Clientes en una Empresa de Telecomunicaciones**\n",
        "\n",
        "**Contexto**\n",
        "\n",
        "En la industria de las telecomunicaciones, la retención de clientes es un factor crítico para la sostenibilidad del negocio. La competencia es feroz y adquirir nuevos clientes suele ser más costoso que mantener a los actuales. En este análisis, exploraremos un conjunto de datos que contiene información detallada sobre clientes que han abandonado el servicio (churn) y aquellos que permanecen activos.\n",
        "\n",
        "Nuestro objetivo es identificar los factores clave que influyen en la deserción, comprender patrones de comportamiento y generar estrategias efectivas para reducir la tasa de abandono.\n",
        "\n",
        "La empresa ha experimentado un aumento en la tasa de deserción de clientes, lo que ha provocado:\n",
        "- Pérdida de ingresos recurrentes.\n",
        "- Incremento en los costos de adquisición de nuevos clientes.\n",
        "- Menor estabilidad en la base de clientes a largo plazo.\n",
        "\n",
        "Para abordar esta problemática, es crucial identificar las razones detrás de la deserción y desarrollar estrategias para mejorar la retención de clientes.\n",
        "\n"
      ]
    },
    {
      "cell_type": "markdown",
      "metadata": {
        "id": "TBsud25XSR0w"
      },
      "source": [
        "**Entrega del Trabajo**\n",
        "\n",
        "Los estudiantes deben trabajar en grupos de entre 2 y 4 personas. Cada grupo deberá subir su trabajo a un repositorio de GitHub, asegurándose de que el código y los archivos necesarios estén bien organizados y documentados. Posteriormente, deberán enviar el enlace del repositorio en la plataforma Canvas para su evaluación.\n",
        "\n",
        "Instrucciones para la entrega:\n",
        "\n",
        "Crear un repositorio en GitHub con un nombre descriptivo para el proyecto.\n",
        "\n",
        "Subir el código en Jupyter Notebook (.ipynb) o en formato Python (.py).\n",
        "\n",
        "Incluir un archivo README.md con una breve descripción del trabajo y las instrucciones de ejecución.\n",
        "\n",
        "Compartir el enlace del repositorio en Canvas dentro del plazo establecido.\n",
        "\n"
      ]
    },
    {
      "cell_type": "markdown",
      "metadata": {
        "id": "R1eyqBGSScta"
      },
      "source": [
        "**Descripción de las variables del dataset telecom_churn**\n",
        "\n",
        "El dataset telecom_churn contiene información detallada sobre clientes de una empresa de telecomunicaciones, incluyendo datos generales, planes contratados, uso del servicio telefónico y llamadas al servicio al cliente. Su propósito principal es analizar patrones de deserción de clientes, identificados a través de la variable churn, que indica si un cliente ha abandonado la empresa (1) o sigue siendo cliente (0).\n",
        "\n",
        "Dentro del dataset, encontramos información general como el estado (state) donde reside el cliente, el código de área (area code), y el número de teléfono (phone number), aunque esta última variable no aporta información útil para el análisis, ya que es un identificador único.\n",
        "\n",
        "Además, el dataset registra el tiempo que un cliente ha estado en la empresa a través de la variable account length, lo que puede ayudar a analizar si la duración del contrato influye en la deserción. También se incluyen detalles sobre los planes contratados, como si el cliente tiene un plan internacional (international plan), que le permite realizar llamadas internacionales, o un buzón de voz (voice mail plan), que le permite recibir mensajes de voz.\n",
        "\n",
        "En cuanto al uso del servicio, se registran datos detallados sobre el tiempo en llamadas y los costos asociados. Se divide en tres períodos del día: diurno (total day minutes, total day calls, total day charge), vespertino (total eve minutes, total eve calls, total eve charge) y nocturno (total night minutes, total night calls, total night charge), lo que permite evaluar si hay patrones de consumo que influyen en la deserción. También se incluye información sobre el uso del servicio internacional, con variables como total intl minutes (minutos en llamadas internacionales), total intl calls (cantidad de llamadas internacionales) y total intl charge (costos por llamadas internacionales).\n",
        "\n",
        "Otro aspecto clave del dataset es el número de llamadas al servicio al cliente (customer service calls), ya que una mayor cantidad de llamadas puede indicar insatisfacción y estar relacionada con la decisión del cliente de abandonar la empresa.\n",
        "\n",
        "Finalmente, la variable más importante del análisis es churn, que indica si un cliente ha desertado de la empresa. A partir de esta variable, podemos analizar qué factores influyen en la deserción y encontrar patrones en los clientes que tienen mayor probabilidad de abandonar el servicio.\n"
      ]
    },
    {
      "cell_type": "markdown",
      "metadata": {
        "id": "-gqRGJ8yFs5Y"
      },
      "source": [
        "**Exploración y Limpieza de Datos**\n",
        "\n",
        "Cargar y explorar el dataset\n",
        "\n",
        "Importa Pandas y carga el dataset telecom_churn.csv en un DataFrame.\n",
        "\n",
        "Muestra las primeras 5 filas del DataFrame.\n",
        "\n",
        "Verifica cuántas filas y columnas tiene el dataset.\n",
        "\n",
        "Muestra información general del dataset, incluyendo los tipos de datos.\n",
        "\n",
        "Identifica si hay valores nulos en alguna columna."
      ]
    },
    {
      "cell_type": "code",
      "execution_count": 142,
      "metadata": {
        "colab": {
          "base_uri": "https://localhost:8080/"
        },
        "id": "wuoyvrE0vQ09",
        "outputId": "026fc32f-a0fd-410c-87ab-b486f5329110"
      },
      "outputs": [
        {
          "output_type": "stream",
          "name": "stdout",
          "text": [
            "1. Primeras 5 filas y primeras 5 columnas:\n",
            "  state  account length  area code phone number international plan\n",
            "0    KS             128        415     382-4657                 no\n",
            "1    OH             107        415     371-7191                 no\n",
            "2    NJ             137        415     358-1921                 no\n",
            "3    OH              84        408     375-9999                yes\n",
            "4    OK              75        415     330-6626                yes\n",
            "\n",
            "2. Numero de filas: 3333\n",
            "Numero de columnas: 21\n",
            "\n",
            "3. Informacion general:\n",
            "<class 'pandas.core.frame.DataFrame'>\n",
            "RangeIndex: 3333 entries, 0 to 3332\n",
            "Data columns (total 21 columns):\n",
            " #   Column                  Non-Null Count  Dtype  \n",
            "---  ------                  --------------  -----  \n",
            " 0   state                   3333 non-null   object \n",
            " 1   account length          3333 non-null   int64  \n",
            " 2   area code               3333 non-null   int64  \n",
            " 3   phone number            3333 non-null   object \n",
            " 4   international plan      3333 non-null   object \n",
            " 5   voice mail plan         3333 non-null   object \n",
            " 6   number vmail messages   3333 non-null   int64  \n",
            " 7   total day minutes       3333 non-null   float64\n",
            " 8   total day calls         3333 non-null   int64  \n",
            " 9   total day charge        3333 non-null   float64\n",
            " 10  total eve minutes       3333 non-null   float64\n",
            " 11  total eve calls         3333 non-null   int64  \n",
            " 12  total eve charge        3333 non-null   float64\n",
            " 13  total night minutes     3333 non-null   float64\n",
            " 14  total night calls       3333 non-null   int64  \n",
            " 15  total night charge      3333 non-null   float64\n",
            " 16  total intl minutes      3333 non-null   float64\n",
            " 17  total intl calls        3333 non-null   int64  \n",
            " 18  total intl charge       3333 non-null   float64\n",
            " 19  customer service calls  3333 non-null   int64  \n",
            " 20  churn                   3333 non-null   bool   \n",
            "dtypes: bool(1), float64(8), int64(8), object(4)\n",
            "memory usage: 524.2+ KB\n",
            "\n",
            "4. Valores nulos por columna:\n",
            "state                     0\n",
            "account length            0\n",
            "area code                 0\n",
            "phone number              0\n",
            "international plan        0\n",
            "voice mail plan           0\n",
            "number vmail messages     0\n",
            "total day minutes         0\n",
            "total day calls           0\n",
            "total day charge          0\n",
            "total eve minutes         0\n",
            "total eve calls           0\n",
            "total eve charge          0\n",
            "total night minutes       0\n",
            "total night calls         0\n",
            "total night charge        0\n",
            "total intl minutes        0\n",
            "total intl calls          0\n",
            "total intl charge         0\n",
            "customer service calls    0\n",
            "churn                     0\n",
            "dtype: int64\n"
          ]
        }
      ],
      "source": [
        "#Se importa la libreria pandas para la generación del DataFrame\n",
        "import pandas as pd\n",
        "\n",
        "#Se carga el archivo con la ruta para el cargue del archivo telecom_churn.csv\n",
        "archivo = \"telecom_churn.csv\"\n",
        "df_telecom = pd.read_csv(archivo)\n",
        "\n",
        "#Se imprime el mensaje para indicar las primeras 5 filas y columnas del dataset, utilizando iloc\n",
        "print(\"1. Primeras 5 filas y primeras 5 columnas:\")\n",
        "print(df_telecom.iloc[:5, :5])\n",
        "\n",
        "#Se imprime el mensaje para indicar el numero de filas y columnas\n",
        "print(\"\\n2. Numero de filas:\", df_telecom.shape[0])\n",
        "print(\"Numero de columnas:\", df_telecom.shape[1])\n",
        "\n",
        "#Se utiliza el metodo info para obtener detalles del DataFrame, incluyendo los tipos de datos\n",
        "print(\"\\n3. Informacion general:\")\n",
        "df_telecom.info()\n",
        "\n",
        "#Se utiliza el metodo isnull() para detectar valores nulos y sum() para contar cuantos hay por columna\n",
        "print(\"\\n4. Valores nulos por columna:\")\n",
        "print(df_telecom.isnull().sum())\n"
      ]
    },
    {
      "cell_type": "markdown",
      "metadata": {
        "id": "PIGXq-ijFgb4"
      },
      "source": [
        "**Análisis de Churn y Factores Relacionados**\n",
        "\n",
        "Calcula el porcentaje de clientes que han desertado (churn = 1).\n",
        "\n",
        "Identifica si los clientes con plan internacional (international plan) tienen mayor tasa de deserción.\n",
        "\n",
        "Identifica si los clientes con buzón de voz (voice mail plan) tienen menor tasa de deserción."
      ]
    },
    {
      "cell_type": "code",
      "execution_count": 126,
      "metadata": {
        "colab": {
          "base_uri": "https://localhost:8080/"
        },
        "id": "3_TFqdwBwUD-",
        "outputId": "ea9b4a80-e88e-4074-b7d7-c38f1d067a76"
      },
      "outputs": [
        {
          "output_type": "stream",
          "name": "stdout",
          "text": [
            "\n",
            "% clientes que han desertado: 14.49%\n",
            "\n",
            "% desercion clientes plan internacional:\n",
            "international plan\n",
            "No    11.495017\n",
            "Si    42.414861\n",
            "Name: churn, dtype: float64\n",
            "\n",
            "Los clientes con plan internacional tienen una mayor tasa de desercion.\n",
            "\n",
            "% desercion clientes buzon de voz:\n",
            "voice mail plan\n",
            "No    16.715056\n",
            "Si     8.676790\n",
            "Name: churn, dtype: float64\n",
            "\n",
            "Los clientes con buzon de voz tienen una menor tasa de desercion\n"
          ]
        }
      ],
      "source": [
        "#Se importa la libreria pandas para la generación del DataFrame\n",
        "import pandas as pd\n",
        "\n",
        "#Se carga el archivo con la ruta para el cargue del archivo telecom_churn.csv\n",
        "archivo = \"telecom_churn.csv\"\n",
        "df_telecom = pd.read_csv(archivo)\n",
        "\n",
        "#Se accede a la columna church, se utiliza mean para sacar el promedio, se multiplica por 100 para sacar el porcentaje y se imprime\n",
        "por_desercion = df_telecom['churn'].mean() * 100\n",
        "print(\"\\n% clientes que han desertado: {:.2f}%\".format(por_desercion))\n",
        "\n",
        "#Se agrupan los que tienen o no plan internacional, se reemplazan los valores, se utiliza mean para calcular el procentaje de estos, se multiplica por 100 para sacer el procentaje\n",
        "plan_desercion = df_telecom.groupby(df_telecom['international plan'].map({'yes': 'Si', 'no': 'No'}))['churn'].mean() * 100\n",
        "print(\"\\n% desercion clientes plan internacional:\")\n",
        "print(plan_desercion)\n",
        "\n",
        "#Se comparan los planes para identificar si los clientes con plan internacional (international plan) tienen mayor tasa de desercion.\n",
        "if plan_desercion['Si'] > plan_desercion['No']:\n",
        "    print(\"\\nLos clientes con plan internacional tienen una mayor tasa de desercion.\")\n",
        "else:\n",
        "    print(\"\\nLos clientes sin plan internacional tienen una mayor tasa de desercion.\")\n",
        "\n",
        "#Se agrupan los que tienen o no buzon de voz, se reemplazan los valores, se utiliza mean para calcular el procentaje de estos, se multiplica por 100 para sacer el procentaje\n",
        "tasa_buzon_voz = df_telecom.groupby(df_telecom['voice mail plan'].map({'yes': 'Si', 'no': 'No'}))['churn'].mean() * 100\n",
        "print(\"\\n% desercion clientes buzon de voz:\")\n",
        "print(tasa_buzon_voz)\n",
        "\n",
        "#Se comparan los planes para identificar si los clientes con con buzon de voz (voice mail plan) tienen menor tasa de deserción\n",
        "if tasa_buzon_voz['Si'] < tasa_buzon_voz['No']:\n",
        "    print(\"\\nLos clientes con buzon de voz tienen una menor tasa de desercion\")\n",
        "else:\n",
        "    print(\"\\nLos clientes sin buzon de voz tienen una menor tasa de desercion\")\n"
      ]
    },
    {
      "cell_type": "markdown",
      "metadata": {
        "id": "yL8Y_juFFup7"
      },
      "source": [
        "**Análisis de la Duración del Servicio y Deserción**\n",
        "\n",
        "¿Cuál es la duración promedio de la cuenta (account length) entre clientes que desertaron y los que permanecen?\n",
        "\n",
        "¿Los clientes con cuentas más antiguas tienen más probabilidades de desertar? (Omitir)"
      ]
    },
    {
      "cell_type": "code",
      "execution_count": 129,
      "metadata": {
        "colab": {
          "base_uri": "https://localhost:8080/"
        },
        "id": "7ViU0n6lGFao",
        "outputId": "a07af32f-01ac-4168-f929-f59ecab6d1a8"
      },
      "outputs": [
        {
          "output_type": "stream",
          "name": "stdout",
          "text": [
            "\n",
            "Duracion promedio de la cuenta:\n",
            "churn\n",
            "Desertaron    102.664596\n",
            "Permanecen    100.793684\n",
            "Name: account length, dtype: float64\n"
          ]
        }
      ],
      "source": [
        "#Se importa la libreria pandas para la generación del DataFrame\n",
        "import pandas as pd\n",
        "\n",
        "#Se carga el archivo con la ruta para el cargue del archivo telecom_churn.csv\n",
        "archivo = \"telecom_churn.csv\"\n",
        "df_telecom = pd.read_csv(archivo)\n",
        "\n",
        "#Se convierte la columna 'churn' a valores visibles y se limpian los datos asegurando que sean de tipo texto, eliminar espacios en blanco y mayuscula\n",
        "df_telecom['churn'] = df_telecom['churn'].astype(str).str.strip().str.upper().map({'TRUE': 'Desertaron', 'FALSE': 'Permanecen'})\n",
        "\n",
        "#Se calcula la duracion promedio de la cuenta entre clientes que desertaron y los que permanecen, usando mean\n",
        "cuenta_promedio = df_telecom.groupby('churn')['account length'].mean()\n",
        "print(\"\\nDuracion promedio de la cuenta:\")\n",
        "print(cuenta_promedio)\n",
        "\n",
        "\n",
        "\n"
      ]
    },
    {
      "cell_type": "markdown",
      "metadata": {
        "id": "vyaa82K0GF6B"
      },
      "source": [
        "**Relación entre Deserción y Uso del Servicio**\n",
        "\n",
        "Compara la cantidad de minutos usados en llamadas diurnas (total day minutes) entre clientes con y sin churn.\n",
        "\n",
        "Compara la cantidad de minutos usados en llamadas nocturnas (total night minutes).\n",
        "\n",
        "Compara el número total de llamadas (total day calls) entre clientes con y sin churn."
      ]
    },
    {
      "cell_type": "code",
      "execution_count": 136,
      "metadata": {
        "id": "d4aPKcv2GrpL",
        "colab": {
          "base_uri": "https://localhost:8080/"
        },
        "outputId": "846b852e-5286-4378-de8c-98adb229dc56"
      },
      "outputs": [
        {
          "output_type": "stream",
          "name": "stdout",
          "text": [
            "\n",
            "Cantidad de minutos usados en llamadas diurnas:\n",
            "churn\n",
            "Desertaron     99939.5\n",
            "Permanecen    499250.9\n",
            "Name: total day minutes, dtype: float64\n",
            "\n",
            "Los clientes que no desertaron usaron mas minutos en llamadas diurnas.\n",
            "\n",
            "Cantidad de minutos usados en llamadas nocturnas:\n",
            "churn\n",
            "Desertaron     99126.9\n",
            "Permanecen    570379.6\n",
            "Name: total night minutes, dtype: float64\n",
            "\n",
            "Los clientes que no desertaron usaron mas minutos en llamadas nocturnas.\n",
            "\n",
            "Numero total de llamadas :\n",
            "churn\n",
            "Desertaron     99126.9\n",
            "Permanecen    570379.6\n",
            "Name: total night minutes, dtype: float64\n",
            "\n",
            "Los clientes que no desertaron tuvieron mas nuemros de llamadas totales\n"
          ]
        }
      ],
      "source": [
        "#Se importa la libreria pandas para la generación del DataFrame\n",
        "import pandas as pd\n",
        "\n",
        "#Se carga el archivo con la ruta para el cargue del archivo telecom_churn.csv\n",
        "archivo = \"telecom_churn.csv\"\n",
        "df_telecom = pd.read_csv(archivo)\n",
        "\n",
        "#Se convierte la columna 'churn' a valores visibles y se limpian los datos asegurando que sean de tipo texto, eliminar espacios en blanco y mayuscula\n",
        "df_telecom['churn'] = df_telecom['churn'].astype(str).str.strip().str.upper().map({'TRUE': 'Desertaron', 'FALSE': 'Permanecen'})\n",
        "\n",
        "#Se calcula la cantidad de minutos usados en llamadas diurnas (total day minutes) entre clientes con y sin churn, usando sum\n",
        "cant_min_diurnas = df_telecom.groupby('churn')['total day minutes'].sum()\n",
        "print(\"\\nCantidad de minutos usados en llamadas diurnas:\")\n",
        "print(cant_min_diurnas)\n",
        "\n",
        "#Compara la cantidad de minutos usados en llamadas diurnas (total day minutes) entre clientes con y sin churn.\n",
        "if cant_min_diurnas['Desertaron'] > cant_min_diurnas['Permanecen']:\n",
        "  print(\"\\nLos clientes que desertaron usaron mas minutos en llamadas diurnas.\")\n",
        "elif cant_min_diurnas['Desertaron'] < cant_min_diurnas['Permanecen']:\n",
        "    print(\"\\nLos clientes que no desertaron usaron mas minutos en llamadas diurnas.\")\n",
        "else:\n",
        "    print(\"\\Es igual la cantidad de minutos de llamadas diurnas entre clientes que desertaron y los que no.\")\n",
        "\n",
        "\n",
        "#Se calcula la cantidad de minutos usados en llamadas nocturnas (total night minutes) entre clientes con y sin churn, usando sum\n",
        "cant_min_nocturnas = df_telecom.groupby('churn')['total night minutes'].sum()\n",
        "print(\"\\nCantidad de minutos usados en llamadas nocturnas:\")\n",
        "print(cant_min_nocturnas)\n",
        "\n",
        "#Compara la cantidad de minutos usados en llamadas nocturnas (total night minutes).\n",
        "if cant_min_nocturnas['Desertaron'] > cant_min_nocturnas['Permanecen']:\n",
        "  print(\"\\nLos clientes que desertaron usaron mas minutos en llamadas nocturnas.\")\n",
        "elif cant_min_nocturnas['Desertaron'] < cant_min_nocturnas['Permanecen']:\n",
        "    print(\"\\nLos clientes que no desertaron usaron mas minutos en llamadas nocturnas.\")\n",
        "else:\n",
        "    print(\"\\Es igual la cantidad de minutos de llamadas nocturnas entre clientes que desertaron y los que no.\")\n",
        "\n",
        "#Se calcula el número total de llamadas (total day calls) entre clientes con y sin churn, usando sum\n",
        "total_llamadas = df_telecom.groupby('churn')['total night minutes'].sum()\n",
        "print(\"\\nNumero total de llamadas :\")\n",
        "print(total_llamadas)\n",
        "\n",
        "#Compara el número total de llamadas (total day calls) entre clientes con y sin churn.\n",
        "if total_llamadas['Desertaron'] > total_llamadas['Permanecen']:\n",
        "  print(\"\\nLos clientes que desertaron tuvieron mas numeros de llamadas totales\")\n",
        "elif total_llamadas['Desertaron'] < total_llamadas['Permanecen']:\n",
        "    print(\"\\nLos clientes que no desertaron tuvieron mas nuemros de llamadas totales\")\n",
        "else:\n",
        "    print(\"\\Es igual la cantidad de llamadas totales entre clientes que desertaron y los que no.\")"
      ]
    },
    {
      "cell_type": "markdown",
      "metadata": {
        "id": "aKl9LnZgGsDT"
      },
      "source": [
        "**Impacto de las Llamadas al Servicio al Cliente en la Deserción**\n",
        "\n",
        "Calcula el número promedio de llamadas al servicio al cliente (customer service calls) entre clientes que desertaron y los que no.\n",
        "\n",
        "Divide los clientes en dos grupos:\n",
        "\n",
        "- Grupo 1: Clientes que llamaron más de 3 veces al servicio al cliente.\n",
        "- Grupo 2: Clientes que llamaron 3 veces o menos.\n",
        "Compara la tasa de churn entre ambos grupos."
      ]
    },
    {
      "cell_type": "code",
      "execution_count": 139,
      "metadata": {
        "id": "ac9qDXgrGz-M",
        "colab": {
          "base_uri": "https://localhost:8080/"
        },
        "outputId": "458da530-223c-424c-c368-88e4fd89ef6c"
      },
      "outputs": [
        {
          "output_type": "stream",
          "name": "stdout",
          "text": [
            "\n",
            "Duracion promedio de llamadas servicio al cliente:\n",
            "churn\n",
            "Desertaron    2.229814\n",
            "Permanecen    1.449825\n",
            "Name: customer service calls, dtype: float64\n",
            "\n",
            "Tasa desercion agrupada por cantidad de llamadas al servicio al cliente:\n",
            "churn               Desertaron  Permanecen\n",
            "grupoxllamadas                            \n",
            "3 o menos llamadas   11.252446   88.747554\n",
            "Más de 3 llamadas    51.685393   48.314607\n"
          ]
        }
      ],
      "source": [
        "#Se importa la libreria pandas para la generacion del DataFrame\n",
        "import pandas as pd\n",
        "\n",
        "#Se carga el archivo con la ruta para el cargue del archivo telecom_churn.csv\n",
        "archivo = \"telecom_churn.csv\"\n",
        "df_telecom = pd.read_csv(archivo)\n",
        "\n",
        "#Se convierte la columna 'churn' a valores visibles y se limpian los datos asegurando que sean de tipo texto, eliminar espacios en blanco y mayuscula\n",
        "df_telecom['churn'] = df_telecom['churn'].astype(str).str.strip().str.upper().map({'TRUE': 'Desertaron', 'FALSE': 'Permanecen'})\n",
        "\n",
        "#Se calcula número promedio de llamadas al servicio al cliente (customer service calls) entre clientes que desertaron y los que no, usando mean\n",
        "duracion_promedio = df_telecom.groupby('churn')['customer service calls'].mean()\n",
        "\n",
        "#Se muestran los resultados\n",
        "print(\"\\nDuracion promedio de llamadas servicio al cliente:\")\n",
        "print(duracion_promedio)\n",
        "\n",
        "#Se crea una nueva columna grupoxllamadas, que recorrera cada fila y colocara el grupos segun la cantidad de llamadas al servicio al cliente, usando lambda\n",
        "df_telecom['grupoxllamadas'] = df_telecom['customer service calls'].apply(lambda x: 'Mas de 3 llamadas' if x > 3 else '3 o menos llamadas')\n",
        "\n",
        "#Se calcula el procentaje de desercion por cada grupo, uniendo por los clientes y multiplicando por 100 para sacar el procentaje\n",
        "por_desercion_llamada = df_telecom.groupby('grupoxllamadas')['churn'].value_counts(normalize=True).unstack() * 100\n",
        "\n",
        "# Se muestran los resultados\n",
        "print(\"\\nTasa desercion agrupada por cantidad de llamadas al servicio al cliente:\")\n",
        "print(por_desercion_llamada)"
      ]
    },
    {
      "cell_type": "markdown",
      "metadata": {
        "id": "U7oTziiyG0Wb"
      },
      "source": [
        "**Análisis del Costo de las Llamadas y Churn**\n",
        "\n",
        "Compara el costo total de llamadas diurnas (total day charge) entre clientes con y sin churn.\n",
        "\n",
        "Compara el costo total de llamadas nocturnas (total night charge).\n",
        "\n",
        "¿Los clientes con mayor gasto en llamadas internacionales (total intl charge) tienen más probabilidades de desertar? (Omitir)"
      ]
    },
    {
      "cell_type": "code",
      "execution_count": 141,
      "metadata": {
        "id": "YWGmcLdoIYwx",
        "colab": {
          "base_uri": "https://localhost:8080/"
        },
        "outputId": "20bc3923-498c-4cc9-ed54-63ffc78e0078"
      },
      "outputs": [
        {
          "output_type": "stream",
          "name": "stdout",
          "text": [
            "\n",
            "Costo total de llamadas diurnas:\n",
            "churn\n",
            "Desertaron    16989.97\n",
            "Permanecen    84874.20\n",
            "Name: total day charge, dtype: float64\n",
            "\n",
            "Los clientes que no desertaron tuvieron un costo mayor en llamadas diurnas.\n",
            "\n",
            "Costo total de llamadas diurnas:\n",
            "churn\n",
            "Desertaron     4460.76\n",
            "Permanecen    25667.31\n",
            "Name: total night charge, dtype: float64\n",
            "\n",
            "Los clientes que no desertaron tuvieron un costo mayor en llamadas nocturnas.\n"
          ]
        }
      ],
      "source": [
        "#Se importa la libreria pandas para la generación del DataFrame\n",
        "import pandas as pd\n",
        "\n",
        "#Se carga el archivo con la ruta para el cargue del archivo telecom_churn.csv\n",
        "archivo = \"telecom_churn.csv\"\n",
        "df_telecom = pd.read_csv(archivo)\n",
        "\n",
        "#Se convierte la columna 'churn' a valores visibles y se limpian los datos asegurando que sean de tipo texto, eliminar espacios en blanco y mayuscula\n",
        "df_telecom['churn'] = df_telecom['churn'].astype(str).str.strip().str.upper().map({'TRUE': 'Desertaron', 'FALSE': 'Permanecen'})\n",
        "\n",
        "#Se calcula el costo total de llamadas diurnas (total day charge) entre clientes con y sin churn, usando sum\n",
        "costo_llamada_diurnas = df_telecom.groupby('churn')['total day charge'].sum()\n",
        "print(\"\\nCosto total de llamadas diurnas:\")\n",
        "print(costo_llamada_diurnas)\n",
        "\n",
        "#Compara el costo total de llamadas diurnas (total day charge) entre clientes con y sin churn.\n",
        "if costo_llamada_diurnas['Desertaron'] > costo_llamada_diurnas['Permanecen']:\n",
        "  print(\"\\nLos clientes que desertaron tuvieron un costo mayor en llamadas diurnas.\")\n",
        "elif costo_llamada_diurnas['Desertaron'] < costo_llamada_diurnas['Permanecen']:\n",
        "    print(\"\\nLos clientes que no desertaron tuvieron un costo mayor en llamadas diurnas.\")\n",
        "else:\n",
        "    print(\"\\Es igual el costo total de las llamadas diurnas entre clientes que desertaron y los que no.\")\n",
        "\n",
        "#Se calcula el costo total de llamadas nocturnas (total night charge) entre clientes con y sin churn, usando sum\n",
        "costo_llamada_nocturnas = df_telecom.groupby('churn')['total night charge'].sum()\n",
        "print(\"\\nCosto total de llamadas nocturnas:\")\n",
        "print(costo_llamada_nocturnas)\n",
        "\n",
        "#Compara el costo total de llamadas nocturnas (total night charge) entre clientes con y sin churn.\n",
        "if costo_llamada_nocturnas['Desertaron'] > costo_llamada_nocturnas['Permanecen']:\n",
        "  print(\"\\nLos clientes que desertaron tuvieron un costo mayor en llamadas nocturnas.\")\n",
        "elif costo_llamada_nocturnas['Desertaron'] < costo_llamada_nocturnas['Permanecen']:\n",
        "    print(\"\\nLos clientes que no desertaron tuvieron un costo mayor en llamadas nocturnas.\")\n",
        "else:\n",
        "    print(\"\\Es igual el costo total de las llamadas nocturnas entre clientes que desertaron y los que no.\")\n",
        "\n",
        "\n",
        "\n"
      ]
    }
  ],
  "metadata": {
    "colab": {
      "provenance": [],
      "include_colab_link": true
    },
    "kernelspec": {
      "display_name": "Python 3",
      "name": "python3"
    },
    "language_info": {
      "name": "python"
    }
  },
  "nbformat": 4,
  "nbformat_minor": 0
}